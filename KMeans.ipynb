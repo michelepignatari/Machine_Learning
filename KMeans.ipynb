{
  "nbformat": 4,
  "nbformat_minor": 0,
  "metadata": {
    "colab": {
      "name": "KMeans.ipynb",
      "provenance": [],
      "authorship_tag": "ABX9TyM7veZkyyPQ/cz77zwBivvf",
      "include_colab_link": true
    },
    "kernelspec": {
      "name": "python3",
      "display_name": "Python 3"
    }
  },
  "cells": [
    {
      "cell_type": "markdown",
      "metadata": {
        "id": "view-in-github",
        "colab_type": "text"
      },
      "source": [
        "<a href=\"https://colab.research.google.com/github/michelepignatari/Machine_Learning/blob/master/KMeans.ipynb\" target=\"_parent\"><img src=\"https://colab.research.google.com/assets/colab-badge.svg\" alt=\"Open In Colab\"/></a>"
      ]
    },
    {
      "cell_type": "code",
      "metadata": {
        "id": "C9lCINONSc5q",
        "colab_type": "code",
        "colab": {}
      },
      "source": [
        "#Importar bibliotecas\n",
        "from pandas import DataFrame\n",
        "import matplotlib.pyplot as plt\n",
        "from sklearn.cluster import KMeans #biblioteca para construção do algoritmo "
      ],
      "execution_count": 16,
      "outputs": []
    },
    {
      "cell_type": "code",
      "metadata": {
        "id": "p_UNJ96aT0Z7",
        "colab_type": "code",
        "colab": {
          "base_uri": "https://localhost:8080/",
          "height": 54
        },
        "outputId": "73bdbcf8-6d16-4a15-a257-d1a396a41b42"
      },
      "source": [
        "#Criar dados aleatórios em dicionário\n",
        "dados = {'x':[25,34,22,27,33,33,31,25,35,34,67,54,57,43,50,57,59,52,65,47,49,48,35,33,44,45,38,43,51,46], \n",
        "         'y':[79,51,53,78,59,74,73,57,69,75,51,32,40,47,53,36,35,58,59,50,25,20,14,12,20,5,29,27,8,7]\n",
        "         }\n",
        "\n",
        "print (dados)"
      ],
      "execution_count": 17,
      "outputs": [
        {
          "output_type": "stream",
          "text": [
            "{'x': [25, 34, 22, 27, 33, 33, 31, 25, 35, 34, 67, 54, 57, 43, 50, 57, 59, 52, 65, 47, 49, 48, 35, 33, 44, 45, 38, 43, 51, 46], 'y': [79, 51, 53, 78, 59, 74, 73, 57, 69, 75, 51, 32, 40, 47, 53, 36, 35, 58, 59, 50, 25, 20, 14, 12, 20, 5, 29, 27, 8, 7]}\n"
          ],
          "name": "stdout"
        }
      ]
    },
    {
      "cell_type": "code",
      "metadata": {
        "id": "AjhvqduHU8QQ",
        "colab_type": "code",
        "colab": {
          "base_uri": "https://localhost:8080/",
          "height": 121
        },
        "outputId": "cc3147e7-9b66-439b-e733-d4298afce190"
      },
      "source": [
        "#Criar o DataFrame\n",
        "df = DataFrame(dados,columns=['x','y'])\n",
        "print (df.head())"
      ],
      "execution_count": 18,
      "outputs": [
        {
          "output_type": "stream",
          "text": [
            "    x   y\n",
            "0  25  79\n",
            "1  34  51\n",
            "2  22  53\n",
            "3  27  78\n",
            "4  33  59\n"
          ],
          "name": "stdout"
        }
      ]
    },
    {
      "cell_type": "code",
      "metadata": {
        "id": "ux3GXRnuWMya",
        "colab_type": "code",
        "colab": {
          "base_uri": "https://localhost:8080/",
          "height": 86
        },
        "outputId": "6c14b30f-6b66-468a-a944-012f7936c80b"
      },
      "source": [
        "#Definir a quantidade de clusters\n",
        "#Os elementos mais próximos ao centróide definem que o mesmo pertence a um cluster.\n",
        "#Se com o aumento da quantidade de clusters a distância do centróide não diminuir, chega-se a conclusão de que o número de clusters está correto. \n",
        "kmeans = KMeans(n_clusters=4)\n",
        "kmeans.fit(df)\n",
        "centroides = kmeans.cluster_centers_ #encontra as coordenadas dos centróides\n",
        "print(centroides)"
      ],
      "execution_count": 48,
      "outputs": [
        {
          "output_type": "stream",
          "text": [
            "[[31.4        53.4       ]\n",
            " [43.2        16.7       ]\n",
            " [56.44444444 46.        ]\n",
            " [30.83333333 74.66666667]]\n"
          ],
          "name": "stdout"
        }
      ]
    },
    {
      "cell_type": "code",
      "metadata": {
        "id": "5Wqno8ReXgxE",
        "colab_type": "code",
        "colab": {
          "base_uri": "https://localhost:8080/",
          "height": 331
        },
        "outputId": "f9507f5d-16f0-4334-c7d5-97bf668f3919"
      },
      "source": [
        "#Plotar o gráfico de saída\n",
        "plt.scatter(df['x'],df['y'], c= kmeans.labels_.astype(float),s=50, alpha=0.5)\n",
        "print(kmeans.labels_.astype(float))\n",
        "plt.scatter(centroides[:,0], centroides[:,1],c='red',s=50)\n",
        "plt.xlabel(\"X\")\n",
        "plt.xlabel(\"Y\")"
      ],
      "execution_count": 49,
      "outputs": [
        {
          "output_type": "stream",
          "text": [
            "[3. 0. 0. 3. 0. 3. 3. 0. 3. 3. 2. 2. 2. 0. 2. 2. 2. 2. 2. 2. 1. 1. 1. 1.\n",
            " 1. 1. 1. 1. 1. 1.]\n"
          ],
          "name": "stdout"
        },
        {
          "output_type": "execute_result",
          "data": {
            "text/plain": [
              "Text(0.5, 0, 'Y')"
            ]
          },
          "metadata": {
            "tags": []
          },
          "execution_count": 49
        },
        {
          "output_type": "display_data",
          "data": {
            "image/png": "[encoded data removed]",
            "text/plain": [
              "<Figure size 432x288 with 1 Axes>"
            ]
          },
          "metadata": {
            "tags": [],
            "needs_background": "light"
          }
        }
      ]
    },
    {
      "cell_type": "code",
      "metadata": {
        "id": "yVIr3TD2ZwWX",
        "colab_type": "code",
        "colab": {}
      },
      "source": [
        ""
      ],
      "execution_count": null,
      "outputs": []
    }
  ]
}