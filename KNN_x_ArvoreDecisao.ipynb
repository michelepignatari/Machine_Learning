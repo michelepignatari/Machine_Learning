{
  "nbformat": 4,
  "nbformat_minor": 0,
  "metadata": {
    "colab": {
      "name": "KNN_x_ArvoreDecisao.ipynb",
      "provenance": [],
      "authorship_tag": "ABX9TyOZArGXPr1qD+QyVd7hKIlr",
      "include_colab_link": true
    },
    "kernelspec": {
      "name": "python3",
      "display_name": "Python 3"
    }
  },
  "cells": [
    {
      "cell_type": "markdown",
      "metadata": {
        "id": "view-in-github",
        "colab_type": "text"
      },
      "source": [
        "<a href=\"https://colab.research.google.com/github/michelepignatari/Machine_Learning/blob/master/KNN_x_ArvoreDecisao.ipynb\" target=\"_parent\"><img src=\"https://colab.research.google.com/assets/colab-badge.svg\" alt=\"Open In Colab\"/></a>"
      ]
    },
    {
      "cell_type": "code",
      "metadata": {
        "id": "5Ya3uuhHkLMh",
        "colab_type": "code",
        "colab": {}
      },
      "source": [
        "#Importar Bibliotecas\n",
        "import pylab as pl #utilizado para plotar gráficos\n",
        "import pandas as pd #utilizado para obter o dataFrame\n",
        "import numpy as np\n",
        "import matplotlib.pyplot as plt\n",
        "from sklearn.model_selection import train_test_split #função que realiza a divisão do dataset\n",
        "from sklearn import neighbors, datasets\n",
        "from sklearn.preprocessing import StandardScaler #utilizado para normalização dos dados\n",
        "from sklearn.neighbors import KNeighborsClassifier #utilizado para o modelo preditivo KNN\n",
        "from sklearn.metrics import classification_report, confusion_matrix #utilizado para comparar os modelos de treino e teste\n",
        "from mlxtend.plotting import plot_confusion_matrix #utilizado para plotagem da matriz de confusão"
      ],
      "execution_count": 53,
      "outputs": []
    },
    {
      "cell_type": "code",
      "metadata": {
        "id": "HuVd56PPlgrK",
        "colab_type": "code",
        "colab": {
          "base_uri": "https://localhost:8080/",
          "height": 155
        },
        "outputId": "211c93cc-afa9-4090-c51d-c4a3d47418f3"
      },
      "source": [
        "#Converter o Banco de Dados iris para o DataFrame\n",
        "df_iris = pd.DataFrame(data=np.c_[iris['data'],iris['target']], #features são os atributos que definem as classificações da planta\n",
        "                       columns=iris['feature_names']+['target']) #target é a classe a qual a planta pertence\n",
        "print(df_iris.head())"
      ],
      "execution_count": 27,
      "outputs": [
        {
          "output_type": "stream",
          "text": [
            "   sepal length (cm)  sepal width (cm)  ...  petal width (cm)  target\n",
            "0                5.1               3.5  ...               0.2     0.0\n",
            "1                4.9               3.0  ...               0.2     0.0\n",
            "2                4.7               3.2  ...               0.2     0.0\n",
            "3                4.6               3.1  ...               0.2     0.0\n",
            "4                5.0               3.6  ...               0.2     0.0\n",
            "\n",
            "[5 rows x 5 columns]\n"
          ],
          "name": "stdout"
        }
      ]
    },
    {
      "cell_type": "code",
      "metadata": {
        "id": "bVgTPTTboaAS",
        "colab_type": "code",
        "colab": {}
      },
      "source": [
        "#Transformar os Dados em Array\n",
        "x = df_iris.iloc[:,:-1].values #dados de entrada\n",
        "y = df_iris.iloc[:, 4].values #última coluna, que corresponde à classe da planta"
      ],
      "execution_count": 41,
      "outputs": []
    },
    {
      "cell_type": "code",
      "metadata": {
        "id": "PJy-7Zc_1xCB",
        "colab_type": "code",
        "colab": {}
      },
      "source": [
        "#Realizar a divisão dos dados entre treinamento e teste\n",
        "x_treino, x_teste, y_treino, y_teste = train_test_split(x, y, test_size=0.20)"
      ],
      "execution_count": 55,
      "outputs": []
    },
    {
      "cell_type": "code",
      "metadata": {
        "id": "9a75MXki6oAW",
        "colab_type": "code",
        "colab": {}
      },
      "source": [
        "#Normalizar os dados, utilizando funções de pré-processamento\n",
        "scaler = StandardScaler() #Standardize features by removing the mean and scaling to unit variance\n",
        "scaler.fit(x_treino) #fit: Compute the mean and std to be used for later scaling.\n",
        "\n",
        "x_treino = scaler.transform(x_treino) #Transform: Perform standardization by centering and scaling\n",
        "x_teste = scaler.transform(x_teste)"
      ],
      "execution_count": 56,
      "outputs": []
    },
    {
      "cell_type": "code",
      "metadata": {
        "id": "XO5ck1-O8wS7",
        "colab_type": "code",
        "colab": {
          "base_uri": "https://localhost:8080/",
          "height": 69
        },
        "outputId": "3285b492-c44b-463b-9b9c-856e56342a86"
      },
      "source": [
        "#Treinar o modelo\n",
        "classificador = KNeighborsClassifier(n_neighbors=5)\n",
        "classificador.fit(x_treino, y_treino)\n"
      ],
      "execution_count": 57,
      "outputs": [
        {
          "output_type": "execute_result",
          "data": {
            "text/plain": [
              "KNeighborsClassifier(algorithm='auto', leaf_size=30, metric='minkowski',\n",
              "                     metric_params=None, n_jobs=None, n_neighbors=5, p=2,\n",
              "                     weights='uniform')"
            ]
          },
          "metadata": {
            "tags": []
          },
          "execution_count": 57
        }
      ]
    },
    {
      "cell_type": "code",
      "metadata": {
        "id": "KEI0iuAE_XkO",
        "colab_type": "code",
        "colab": {}
      },
      "source": [
        "#Prever o resultado\n",
        "y_previsao = classificador.predict(x_teste)"
      ],
      "execution_count": 58,
      "outputs": []
    },
    {
      "cell_type": "code",
      "metadata": {
        "id": "qeZOjLNw_6nQ",
        "colab_type": "code",
        "colab": {
          "base_uri": "https://localhost:8080/",
          "height": 242
        },
        "outputId": "4448dadb-7c7a-4c4c-80e6-68fafb7d3109"
      },
      "source": [
        "#Contruir a matriz de confusão para comparar o modelo criado\n",
        "print(confusion_matrix(y_teste, y_previsao)) #Compute confusion matrix to evaluate the accuracy of a classification.\n",
        "print(classification_report(y_teste, y_previsao)) #Build a text report showing the main classification metrics"
      ],
      "execution_count": 59,
      "outputs": [
        {
          "output_type": "stream",
          "text": [
            "[[15  0  0]\n",
            " [ 0 10  1]\n",
            " [ 0  0 12]]\n",
            "              precision    recall  f1-score   support\n",
            "\n",
            "         0.0       1.00      1.00      1.00        15\n",
            "         1.0       1.00      0.91      0.95        11\n",
            "         2.0       0.92      1.00      0.96        12\n",
            "\n",
            "    accuracy                           0.97        38\n",
            "   macro avg       0.97      0.97      0.97        38\n",
            "weighted avg       0.98      0.97      0.97        38\n",
            "\n"
          ],
          "name": "stdout"
        }
      ]
    },
    {
      "cell_type": "code",
      "metadata": {
        "id": "ZL8zn7kYECXj",
        "colab_type": "code",
        "colab": {
          "base_uri": "https://localhost:8080/",
          "height": 279
        },
        "outputId": "1ad854f5-a25f-4fbc-a5ea-acacca013447"
      },
      "source": [
        "#Plotar a Matriz de Confusão em um gráfico\n",
        "matriz_confusao = confusion_matrix(y_teste, y_previsao)\n",
        "fig, ax = plot_confusion_matrix(conf_mat=matriz_confusao)\n",
        "plt.show()"
      ],
      "execution_count": 60,
      "outputs": [
        {
          "output_type": "display_data",
          "data": {
            "image/png": "[encoded data removed]",
            "text/plain": [
              "<Figure size 432x288 with 1 Axes>"
            ]
          },
          "metadata": {
            "tags": [],
            "needs_background": "light"
          }
        }
      ]
    }
  ]
}