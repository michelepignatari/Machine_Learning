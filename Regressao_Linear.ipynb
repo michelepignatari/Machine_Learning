{
  "nbformat": 4,
  "nbformat_minor": 0,
  "metadata": {
    "colab": {
      "name": "Regressao_Linear.ipynb",
      "provenance": [],
      "authorship_tag": "ABX9TyO6VHb+O/Rc5yAuFzBrWh90",
      "include_colab_link": true
    },
    "kernelspec": {
      "name": "python3",
      "display_name": "Python 3"
    }
  },
  "cells": [
    {
      "cell_type": "markdown",
      "metadata": {
        "id": "view-in-github",
        "colab_type": "text"
      },
      "source": [
        "<a href=\"https://colab.research.google.com/github/michelepignatari/Machine_Learning/blob/master/Regressao_Linear.ipynb\" target=\"_parent\"><img src=\"https://colab.research.google.com/assets/colab-badge.svg\" alt=\"Open In Colab\"/></a>"
      ]
    },
    {
      "cell_type": "code",
      "metadata": {
        "id": "XcBdcI4MPJsh",
        "colab_type": "code",
        "colab": {}
      },
      "source": [
        ""
      ],
      "execution_count": null,
      "outputs": []
    },
    {
      "cell_type": "code",
      "metadata": {
        "id": "4_67PybkPQS1",
        "colab_type": "code",
        "colab": {}
      },
      "source": [
        "import numpy as np  # biblioteca utilizada para tratar com número/vetores/matrizes\n",
        "import matplotlib.pyplot as plt  # utilizada para plotar gráficos ao \"estilo\" matlab\n",
        "import pandas as pd #biblioteca utilizada para realizar operações sobre dataframes\n"
      ],
      "execution_count": 1,
      "outputs": []
    }
  ]
}