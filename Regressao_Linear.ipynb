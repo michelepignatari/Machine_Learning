{
  "nbformat": 4,
  "nbformat_minor": 0,
  "metadata": {
    "colab": {
      "name": "Regressao_Linear.ipynb",
      "provenance": [],
      "authorship_tag": "ABX9TyOtFHtEk27g3fJE32GRyQ4w",
      "include_colab_link": true
    },
    "kernelspec": {
      "name": "python3",
      "display_name": "Python 3"
    }
  },
  "cells": [
    {
      "cell_type": "markdown",
      "metadata": {
        "id": "view-in-github",
        "colab_type": "text"
      },
      "source": [
        "<a href=\"https://colab.research.google.com/github/michelepignatari/Machine_Learning/blob/master/Regressao_Linear.ipynb\" target=\"_parent\"><img src=\"https://colab.research.google.com/assets/colab-badge.svg\" alt=\"Open In Colab\"/></a>"
      ]
    },
    {
      "cell_type": "code",
      "metadata": {
        "id": "4_67PybkPQS1",
        "colab_type": "code",
        "colab": {}
      },
      "source": [
        "# importação das bibliotecas\n",
        "import numpy as np  # biblioteca utilizada para tratar com número/vetores/matrizes\n",
        "import scipy # biblioteca utilizada para funções de treinamento\n",
        "import pandas as pd #biblioteca utilizada para realizar operações sobre dataframes\n",
        "import matplotlib.pyplot as plt  # utilizada para plotar gráficos ao \"estilo\" matlab\n",
        "  from  scipy.optimize import curve.fit # biblioteca utilizada para realizar a otimização dos NSE\n"
      ],
      "execution_count": 2,
      "outputs": []
    },
    {
      "cell_type": "code",
      "metadata": {
        "id": "mfCKEWkrSOP_",
        "colab_type": "code",
        "colab": {}
      },
      "source": [
        ""
      ],
      "execution_count": null,
      "outputs": []
    }
  ]
}